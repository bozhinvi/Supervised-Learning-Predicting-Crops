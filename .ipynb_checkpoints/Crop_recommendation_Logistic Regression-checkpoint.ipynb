{
 "cells": [
  {
   "cell_type": "markdown",
   "id": "8c70a0af-a556-4cb7-8940-dfcfbe6b81c0",
   "metadata": {},
   "source": [
    "# Crop recommendation using Multinominal Logistic Regression\n",
    "\n",
    "For farmers it is important to maxiomizie output from their soil to maximize profit. Beside market price, it is important to know which crop shopuld be cultivated with respect to climate and soil constitution, In this application, optimal crop is predicted using a dataset on soil consistency and climate information. Data fields in the data set are as following:\n",
    "\n",
    "- N - ratio of Nitrogen content in soil\n",
    "- P - ratio of Phosphorous content in soil\n",
    "- K - ratio of Potassium content in soil\n",
    "- temperature - temperature in degree Celsius\n",
    "- humidity - relative humidity in %\n",
    "- ph - ph value of the soil\n",
    "- rainfall - rainfall in mm"
   ]
  },
  {
   "cell_type": "code",
   "execution_count": 52,
   "id": "9ab995e0-f8bd-480a-acc8-270006e52ce0",
   "metadata": {},
   "outputs": [],
   "source": [
    "# Import needed packages\n",
    "\n",
    "import matplotlib.pyplot as plt\n",
    "import pandas as pd\n",
    "import seaborn as sns\n",
    "import numpy as np\n",
    "from sklearn.linear_model import LogisticRegression\n",
    "from sklearn.model_selection import train_test_split\n",
    "from sklearn.metrics import f1_score"
   ]
  },
  {
   "cell_type": "code",
   "execution_count": 35,
   "id": "ece30136-5dec-485f-9c93-7ec6c16c6ffb",
   "metadata": {},
   "outputs": [],
   "source": [
    "# Import dataset\n",
    "crops = pd.read_csv(\"data/Crop_recommendation.csv\")"
   ]
  },
  {
   "cell_type": "code",
   "execution_count": 36,
   "id": "7d093595-fcd9-41e9-81f7-db4faafe5bc9",
   "metadata": {},
   "outputs": [
    {
     "data": {
      "text/plain": [
       "N              0\n",
       "P              0\n",
       "K              0\n",
       "temperature    0\n",
       "humidity       0\n",
       "ph             0\n",
       "rainfall       0\n",
       "label          0\n",
       "dtype: int64"
      ]
     },
     "execution_count": 36,
     "metadata": {},
     "output_type": "execute_result"
    }
   ],
   "source": [
    "# Inspecting dataset I: Checkling for NAs\n",
    "crops.isna().sum()"
   ]
  },
  {
   "cell_type": "code",
   "execution_count": 37,
   "id": "d814f48d-ef18-4e51-b26d-8653393068be",
   "metadata": {},
   "outputs": [
    {
     "data": {
      "text/html": [
       "<div>\n",
       "<style scoped>\n",
       "    .dataframe tbody tr th:only-of-type {\n",
       "        vertical-align: middle;\n",
       "    }\n",
       "\n",
       "    .dataframe tbody tr th {\n",
       "        vertical-align: top;\n",
       "    }\n",
       "\n",
       "    .dataframe thead th {\n",
       "        text-align: right;\n",
       "    }\n",
       "</style>\n",
       "<table border=\"1\" class=\"dataframe\">\n",
       "  <thead>\n",
       "    <tr style=\"text-align: right;\">\n",
       "      <th></th>\n",
       "      <th>N</th>\n",
       "      <th>P</th>\n",
       "      <th>K</th>\n",
       "      <th>temperature</th>\n",
       "      <th>humidity</th>\n",
       "      <th>ph</th>\n",
       "      <th>rainfall</th>\n",
       "    </tr>\n",
       "    <tr>\n",
       "      <th>label</th>\n",
       "      <th></th>\n",
       "      <th></th>\n",
       "      <th></th>\n",
       "      <th></th>\n",
       "      <th></th>\n",
       "      <th></th>\n",
       "      <th></th>\n",
       "    </tr>\n",
       "  </thead>\n",
       "  <tbody>\n",
       "    <tr>\n",
       "      <th>apple</th>\n",
       "      <td>2080</td>\n",
       "      <td>13422</td>\n",
       "      <td>19989</td>\n",
       "      <td>2263.094241</td>\n",
       "      <td>9233.338288</td>\n",
       "      <td>592.966293</td>\n",
       "      <td>11265.477928</td>\n",
       "    </tr>\n",
       "    <tr>\n",
       "      <th>banana</th>\n",
       "      <td>10023</td>\n",
       "      <td>8201</td>\n",
       "      <td>5005</td>\n",
       "      <td>2737.679831</td>\n",
       "      <td>8035.812258</td>\n",
       "      <td>598.389318</td>\n",
       "      <td>10462.698040</td>\n",
       "    </tr>\n",
       "    <tr>\n",
       "      <th>blackgram</th>\n",
       "      <td>4002</td>\n",
       "      <td>6747</td>\n",
       "      <td>1924</td>\n",
       "      <td>2997.333968</td>\n",
       "      <td>6511.842559</td>\n",
       "      <td>713.395163</td>\n",
       "      <td>6788.415118</td>\n",
       "    </tr>\n",
       "    <tr>\n",
       "      <th>chickpea</th>\n",
       "      <td>4009</td>\n",
       "      <td>6779</td>\n",
       "      <td>7992</td>\n",
       "      <td>1887.284675</td>\n",
       "      <td>1686.043942</td>\n",
       "      <td>733.695662</td>\n",
       "      <td>8005.897726</td>\n",
       "    </tr>\n",
       "    <tr>\n",
       "      <th>coconut</th>\n",
       "      <td>2198</td>\n",
       "      <td>1693</td>\n",
       "      <td>3059</td>\n",
       "      <td>2740.989217</td>\n",
       "      <td>9484.427181</td>\n",
       "      <td>597.656213</td>\n",
       "      <td>17568.664580</td>\n",
       "    </tr>\n",
       "    <tr>\n",
       "      <th>coffee</th>\n",
       "      <td>10120</td>\n",
       "      <td>2874</td>\n",
       "      <td>2994</td>\n",
       "      <td>2554.047682</td>\n",
       "      <td>5886.984630</td>\n",
       "      <td>679.030827</td>\n",
       "      <td>15806.629488</td>\n",
       "    </tr>\n",
       "    <tr>\n",
       "      <th>cotton</th>\n",
       "      <td>11777</td>\n",
       "      <td>4624</td>\n",
       "      <td>1956</td>\n",
       "      <td>2398.895790</td>\n",
       "      <td>7984.347425</td>\n",
       "      <td>691.267550</td>\n",
       "      <td>8039.804312</td>\n",
       "    </tr>\n",
       "    <tr>\n",
       "      <th>grapes</th>\n",
       "      <td>2318</td>\n",
       "      <td>13253</td>\n",
       "      <td>20011</td>\n",
       "      <td>2384.957512</td>\n",
       "      <td>8187.522752</td>\n",
       "      <td>602.593668</td>\n",
       "      <td>6961.182889</td>\n",
       "    </tr>\n",
       "    <tr>\n",
       "      <th>jute</th>\n",
       "      <td>7840</td>\n",
       "      <td>4686</td>\n",
       "      <td>3999</td>\n",
       "      <td>2495.837583</td>\n",
       "      <td>7963.986421</td>\n",
       "      <td>673.277757</td>\n",
       "      <td>17479.279754</td>\n",
       "    </tr>\n",
       "    <tr>\n",
       "      <th>kidneybeans</th>\n",
       "      <td>2075</td>\n",
       "      <td>6754</td>\n",
       "      <td>2005</td>\n",
       "      <td>2011.508469</td>\n",
       "      <td>2160.535673</td>\n",
       "      <td>574.941059</td>\n",
       "      <td>10591.977754</td>\n",
       "    </tr>\n",
       "    <tr>\n",
       "      <th>lentil</th>\n",
       "      <td>1877</td>\n",
       "      <td>6836</td>\n",
       "      <td>1941</td>\n",
       "      <td>2450.905240</td>\n",
       "      <td>6480.478468</td>\n",
       "      <td>692.793157</td>\n",
       "      <td>4568.045420</td>\n",
       "    </tr>\n",
       "    <tr>\n",
       "      <th>maize</th>\n",
       "      <td>7776</td>\n",
       "      <td>4844</td>\n",
       "      <td>1979</td>\n",
       "      <td>2238.920391</td>\n",
       "      <td>6509.224945</td>\n",
       "      <td>624.518972</td>\n",
       "      <td>8476.698766</td>\n",
       "    </tr>\n",
       "    <tr>\n",
       "      <th>mango</th>\n",
       "      <td>2007</td>\n",
       "      <td>2718</td>\n",
       "      <td>2992</td>\n",
       "      <td>3120.877015</td>\n",
       "      <td>5015.657270</td>\n",
       "      <td>576.637280</td>\n",
       "      <td>9470.451504</td>\n",
       "    </tr>\n",
       "    <tr>\n",
       "      <th>mothbeans</th>\n",
       "      <td>2144</td>\n",
       "      <td>4801</td>\n",
       "      <td>2023</td>\n",
       "      <td>2819.492048</td>\n",
       "      <td>5316.041803</td>\n",
       "      <td>683.117408</td>\n",
       "      <td>5119.848705</td>\n",
       "    </tr>\n",
       "    <tr>\n",
       "      <th>mungbean</th>\n",
       "      <td>2099</td>\n",
       "      <td>4728</td>\n",
       "      <td>1987</td>\n",
       "      <td>2852.577474</td>\n",
       "      <td>8549.997454</td>\n",
       "      <td>672.395694</td>\n",
       "      <td>4840.360090</td>\n",
       "    </tr>\n",
       "    <tr>\n",
       "      <th>muskmelon</th>\n",
       "      <td>10032</td>\n",
       "      <td>1772</td>\n",
       "      <td>5008</td>\n",
       "      <td>2866.306576</td>\n",
       "      <td>9234.280196</td>\n",
       "      <td>635.880545</td>\n",
       "      <td>2468.995207</td>\n",
       "    </tr>\n",
       "    <tr>\n",
       "      <th>orange</th>\n",
       "      <td>1958</td>\n",
       "      <td>1655</td>\n",
       "      <td>1001</td>\n",
       "      <td>2276.572550</td>\n",
       "      <td>9217.020876</td>\n",
       "      <td>701.695745</td>\n",
       "      <td>11047.496872</td>\n",
       "    </tr>\n",
       "    <tr>\n",
       "      <th>papaya</th>\n",
       "      <td>4988</td>\n",
       "      <td>5905</td>\n",
       "      <td>5004</td>\n",
       "      <td>3372.385874</td>\n",
       "      <td>9240.338768</td>\n",
       "      <td>674.144237</td>\n",
       "      <td>14262.783886</td>\n",
       "    </tr>\n",
       "    <tr>\n",
       "      <th>pigeonpeas</th>\n",
       "      <td>2073</td>\n",
       "      <td>6773</td>\n",
       "      <td>2029</td>\n",
       "      <td>2774.176223</td>\n",
       "      <td>4806.163308</td>\n",
       "      <td>579.417488</td>\n",
       "      <td>14945.756381</td>\n",
       "    </tr>\n",
       "    <tr>\n",
       "      <th>pomegranate</th>\n",
       "      <td>1887</td>\n",
       "      <td>1875</td>\n",
       "      <td>4021</td>\n",
       "      <td>2183.784172</td>\n",
       "      <td>9012.550379</td>\n",
       "      <td>642.917184</td>\n",
       "      <td>10752.844240</td>\n",
       "    </tr>\n",
       "    <tr>\n",
       "      <th>rice</th>\n",
       "      <td>7989</td>\n",
       "      <td>4758</td>\n",
       "      <td>3987</td>\n",
       "      <td>2368.933221</td>\n",
       "      <td>8227.282154</td>\n",
       "      <td>642.547092</td>\n",
       "      <td>23618.111359</td>\n",
       "    </tr>\n",
       "    <tr>\n",
       "      <th>watermelon</th>\n",
       "      <td>9942</td>\n",
       "      <td>1700</td>\n",
       "      <td>5022</td>\n",
       "      <td>2559.176724</td>\n",
       "      <td>8516.037529</td>\n",
       "      <td>649.577830</td>\n",
       "      <td>5078.621894</td>\n",
       "    </tr>\n",
       "  </tbody>\n",
       "</table>\n",
       "</div>"
      ],
      "text/plain": [
       "                 N      P      K  temperature     humidity          ph  \\\n",
       "label                                                                    \n",
       "apple         2080  13422  19989  2263.094241  9233.338288  592.966293   \n",
       "banana       10023   8201   5005  2737.679831  8035.812258  598.389318   \n",
       "blackgram     4002   6747   1924  2997.333968  6511.842559  713.395163   \n",
       "chickpea      4009   6779   7992  1887.284675  1686.043942  733.695662   \n",
       "coconut       2198   1693   3059  2740.989217  9484.427181  597.656213   \n",
       "coffee       10120   2874   2994  2554.047682  5886.984630  679.030827   \n",
       "cotton       11777   4624   1956  2398.895790  7984.347425  691.267550   \n",
       "grapes        2318  13253  20011  2384.957512  8187.522752  602.593668   \n",
       "jute          7840   4686   3999  2495.837583  7963.986421  673.277757   \n",
       "kidneybeans   2075   6754   2005  2011.508469  2160.535673  574.941059   \n",
       "lentil        1877   6836   1941  2450.905240  6480.478468  692.793157   \n",
       "maize         7776   4844   1979  2238.920391  6509.224945  624.518972   \n",
       "mango         2007   2718   2992  3120.877015  5015.657270  576.637280   \n",
       "mothbeans     2144   4801   2023  2819.492048  5316.041803  683.117408   \n",
       "mungbean      2099   4728   1987  2852.577474  8549.997454  672.395694   \n",
       "muskmelon    10032   1772   5008  2866.306576  9234.280196  635.880545   \n",
       "orange        1958   1655   1001  2276.572550  9217.020876  701.695745   \n",
       "papaya        4988   5905   5004  3372.385874  9240.338768  674.144237   \n",
       "pigeonpeas    2073   6773   2029  2774.176223  4806.163308  579.417488   \n",
       "pomegranate   1887   1875   4021  2183.784172  9012.550379  642.917184   \n",
       "rice          7989   4758   3987  2368.933221  8227.282154  642.547092   \n",
       "watermelon    9942   1700   5022  2559.176724  8516.037529  649.577830   \n",
       "\n",
       "                 rainfall  \n",
       "label                      \n",
       "apple        11265.477928  \n",
       "banana       10462.698040  \n",
       "blackgram     6788.415118  \n",
       "chickpea      8005.897726  \n",
       "coconut      17568.664580  \n",
       "coffee       15806.629488  \n",
       "cotton        8039.804312  \n",
       "grapes        6961.182889  \n",
       "jute         17479.279754  \n",
       "kidneybeans  10591.977754  \n",
       "lentil        4568.045420  \n",
       "maize         8476.698766  \n",
       "mango         9470.451504  \n",
       "mothbeans     5119.848705  \n",
       "mungbean      4840.360090  \n",
       "muskmelon     2468.995207  \n",
       "orange       11047.496872  \n",
       "papaya       14262.783886  \n",
       "pigeonpeas   14945.756381  \n",
       "pomegranate  10752.844240  \n",
       "rice         23618.111359  \n",
       "watermelon    5078.621894  "
      ]
     },
     "execution_count": 37,
     "metadata": {},
     "output_type": "execute_result"
    }
   ],
   "source": [
    "# Inspecting dataset II: Summary statistics for features\n",
    "crops.groupby(\"label\").sum()"
   ]
  },
  {
   "cell_type": "code",
   "execution_count": 145,
   "id": "69b5669d-b802-4eb0-91d0-765afbb2bcc0",
   "metadata": {},
   "outputs": [
    {
     "data": {
      "text/plain": [
       "label\n",
       "apple          100\n",
       "banana         100\n",
       "blackgram      100\n",
       "chickpea       100\n",
       "coconut        100\n",
       "coffee         100\n",
       "cotton         100\n",
       "grapes         100\n",
       "jute           100\n",
       "kidneybeans    100\n",
       "lentil         100\n",
       "maize          100\n",
       "mango          100\n",
       "mothbeans      100\n",
       "mungbean       100\n",
       "muskmelon      100\n",
       "orange         100\n",
       "papaya         100\n",
       "pigeonpeas     100\n",
       "pomegranate    100\n",
       "rice           100\n",
       "watermelon     100\n",
       "Name: label, dtype: int64"
      ]
     },
     "execution_count": 145,
     "metadata": {},
     "output_type": "execute_result"
    }
   ],
   "source": [
    "# Inspecting dataset III: Summary statistics for target variable\n",
    "crops.groupby(\"label\").label.count()"
   ]
  },
  {
   "cell_type": "code",
   "execution_count": 91,
   "id": "d26f8731-c2db-4efd-964e-0c84616a9591",
   "metadata": {},
   "outputs": [],
   "source": [
    "# Splitting dataset into train and test\n",
    "X_train, X_test, y_train, y_test = train_test_split(crops.drop(\"label\", axis = 1), crops[\"label\"], random_state = 42, test_size = 0.2)"
   ]
  },
  {
   "cell_type": "markdown",
   "id": "a043bd3f-5a23-432c-b57e-c4a30cc256bf",
   "metadata": {},
   "source": [
    "Multinomal logit regression is used to predict crops in seevral steps. First, each feature is used exclusively to predict labels and f1 score is compared to identify the best predictors. Second, since estimation of (multinominal) logit regressions often does not converge well (see Wooldridge, Econometrics Analysis of Cross Section and Panel Data) in case of multicolienarity, a correlation matrix is obtained to check whether some features are highly correlated."
   ]
  },
  {
   "cell_type": "code",
   "execution_count": 227,
   "id": "d4b2add6-dec2-45b9-abff-de5ef4909192",
   "metadata": {},
   "outputs": [
    {
     "name": "stdout",
     "output_type": "stream",
     "text": [
      "{'N': 0.10889620764302686, 'P': 0.13870971667870136, 'K': 0.18196486946516785, 'temperature': 0.09118740497411754, 'humidity': 0.2857054473273933, 'ph': 0.04676295217692121, 'rainfall': 0.23149012019307397}\n"
     ]
    }
   ],
   "source": [
    "# Creating Dictonary for f1 scores ans list of feature names\n",
    "f1_scores = {}\n",
    "features = crops.drop(\"label\", axis = 1).columns.to_list()\n",
    "\n",
    "# Prediction loop over features individually\n",
    "for feature in features:\n",
    "    \n",
    "    mlogit = LogisticRegression(max_iter = 2000, multi_class = \"multinomial\", solver = \"newton-cg\")\n",
    "    mlogit.fit(X_train[feature].to_numpy().reshape(-1,1), y_train)\n",
    "    y_pred = mlogit.predict(X_test[feature].to_numpy().reshape(-1,1))\n",
    "    f1_scores[feature] = f1_score(y_test, y_pred, average = \"macro\")\n",
    "\n",
    "# Printing results\n",
    "print(f1_scores)"
   ]
  },
  {
   "cell_type": "code",
   "execution_count": 228,
   "id": "a74b88a6-c8c3-4c79-a9d8-8a593ee331a2",
   "metadata": {},
   "outputs": [
    {
     "data": {
      "image/png": "[encoded data removed]",
      "text/plain": [
       "<Figure size 640x480 with 2 Axes>"
      ]
     },
     "metadata": {},
     "output_type": "display_data"
    }
   ],
   "source": [
    "# Creating correlation heatmap for all features\n",
    "correlations = crops.drop(\"label\", axis = 1).corr()\n",
    "\n",
    "sns.heatmap(correlations, annot=correlations)\n",
    "\n",
    "plt.show()"
   ]
  },
  {
   "cell_type": "code",
   "execution_count": 229,
   "id": "db53c5dd-dce9-4eb4-954c-c23fcbbb8dce",
   "metadata": {},
   "outputs": [],
   "source": [
    "# Estimasting full model\n",
    "mlogit_full = LogisticRegression(max_iter = 2000, multi_class = \"multinomial\", solver = \"newton-cg\")\n",
    "\n",
    "mlogit_full.fit(X_train, y_train)\n",
    "\n",
    "y_pred = mlogit_full.predict(X_test)\n",
    "                             \n",
    "y_pred_proba = mlogit_full.predict_proba(X_test)\n",
    "\n",
    "f1_score_full = f1_score(y_test, y_pred, average = \"macro\")"
   ]
  },
  {
   "cell_type": "code",
   "execution_count": 230,
   "id": "68664027-0e25-45a1-a8e2-eebc70df406b",
   "metadata": {},
   "outputs": [
    {
     "name": "stdout",
     "output_type": "stream",
     "text": [
      "0.9783298914016023\n"
     ]
    }
   ],
   "source": [
    "print(f1_score_full)"
   ]
  },
  {
   "cell_type": "markdown",
   "id": "f1a3dc17-b653-4b7f-afe4-d94eeec1696b",
   "metadata": {},
   "source": [
    "The model performs pretty well with an f1 score of .97. Let's look under the hood, how the predictions are done manually by checking the predicted probabilities for the first observation on the test data."
   ]
  },
  {
   "cell_type": "code",
   "execution_count": 254,
   "id": "219bf5a7-8830-43f1-8b02-c798f2eb6399",
   "metadata": {},
   "outputs": [
    {
     "name": "stdout",
     "output_type": "stream",
     "text": [
      "The first label in the test dataset is muskmelon\n"
     ]
    }
   ],
   "source": [
    "# First label in test data\n",
    "print(\"The first label in the test dataset is\", np.array(y_test)[0])"
   ]
  },
  {
   "cell_type": "code",
   "execution_count": 257,
   "id": "a150f309-97b4-4337-9b38-cab126b9b07e",
   "metadata": {},
   "outputs": [
    {
     "data": {
      "text/html": [
       "<div>\n",
       "<style scoped>\n",
       "    .dataframe tbody tr th:only-of-type {\n",
       "        vertical-align: middle;\n",
       "    }\n",
       "\n",
       "    .dataframe tbody tr th {\n",
       "        vertical-align: top;\n",
       "    }\n",
       "\n",
       "    .dataframe thead th {\n",
       "        text-align: right;\n",
       "    }\n",
       "</style>\n",
       "<table border=\"1\" class=\"dataframe\">\n",
       "  <thead>\n",
       "    <tr style=\"text-align: right;\">\n",
       "      <th></th>\n",
       "      <th>Probability</th>\n",
       "    </tr>\n",
       "  </thead>\n",
       "  <tbody>\n",
       "    <tr>\n",
       "      <th>apple</th>\n",
       "      <td>1.272495e-27</td>\n",
       "    </tr>\n",
       "    <tr>\n",
       "      <th>banana</th>\n",
       "      <td>1.327215e-17</td>\n",
       "    </tr>\n",
       "    <tr>\n",
       "      <th>blackgram</th>\n",
       "      <td>2.462351e-18</td>\n",
       "    </tr>\n",
       "    <tr>\n",
       "      <th>chickpea</th>\n",
       "      <td>1.473558e-21</td>\n",
       "    </tr>\n",
       "    <tr>\n",
       "      <th>coconut</th>\n",
       "      <td>1.423732e-29</td>\n",
       "    </tr>\n",
       "  </tbody>\n",
       "</table>\n",
       "</div>"
      ],
      "text/plain": [
       "            Probability\n",
       "apple      1.272495e-27\n",
       "banana     1.327215e-17\n",
       "blackgram  2.462351e-18\n",
       "chickpea   1.473558e-21\n",
       "coconut    1.423732e-29"
      ]
     },
     "execution_count": 257,
     "metadata": {},
     "output_type": "execute_result"
    }
   ],
   "source": [
    "# Probabilities estimated for each label for first row\n",
    "df = pd.DataFrame(y_pred_proba[0].reshape(-1,1), index = sorted(crops.label.unique()), columns= [\"Probability\"])\n",
    "\n",
    "df.head()"
   ]
  },
  {
   "cell_type": "code",
   "execution_count": 278,
   "id": "b70debe0-b1db-4743-9a48-68de70b5e451",
   "metadata": {},
   "outputs": [
    {
     "name": "stdout",
     "output_type": "stream",
     "text": [
      "Estimated probability: 0.9999616678982917\n"
     ]
    },
    {
     "data": {
      "text/plain": [
       "Index(['muskmelon'], dtype='object')"
      ]
     },
     "execution_count": 278,
     "metadata": {},
     "output_type": "execute_result"
    }
   ],
   "source": [
    "# Prediced label\n",
    "df.index[df[\"Probability\"] == max(df.Probability)]\n",
    "\n",
    "# Maximum estimated probability\n",
    "print(\"Estimated probability:\", max(df.Probability))"
   ]
  }
 ],
 "metadata": {
  "kernelspec": {
   "display_name": "Python 3 (ipykernel)",
   "language": "python",
   "name": "python3"
  },
  "language_info": {
   "codemirror_mode": {
    "name": "ipython",
    "version": 3
   },
   "file_extension": ".py",
   "mimetype": "text/x-python",
   "name": "python",
   "nbconvert_exporter": "python",
   "pygments_lexer": "ipython3",
   "version": "3.9.13"
  }
 },
 "nbformat": 4,
 "nbformat_minor": 5
}
